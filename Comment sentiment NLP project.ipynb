{
 "cells": [
  {
   "cell_type": "code",
   "execution_count": 1,
   "id": "62814101-99c4-4f27-97cb-c9d29ee57487",
   "metadata": {},
   "outputs": [],
   "source": [
    "# DATA PREPROCESSING \n"
   ]
  },
  {
   "cell_type": "code",
   "execution_count": 178,
   "id": "e475f3bf-60f3-4e8d-8268-7bab913f99c5",
   "metadata": {},
   "outputs": [],
   "source": [
    "import pandas as pd\n",
    "# This line imports the `stopwords` module from the Natural Language Toolkit (NLTK) library. \n",
    "#Stopwords are common words in a language (like \"the\", \"is\", \"in\", etc.)\n",
    "#that are often removed in text processing because they carry less meaningful information.\n",
    "from nltk.corpus import stopwords\n",
    "# take a string, split it by spaces perform the lemmetization (run from running, better to good (its root format)) then connect it back\n",
    "from nltk.stem import WordNetLemmatizer\n"
   ]
  },
  {
   "cell_type": "code",
   "execution_count": 141,
   "id": "2a16591c-52d9-4210-9899-8d1e7bcd7af2",
   "metadata": {},
   "outputs": [
    {
     "name": "stderr",
     "output_type": "stream",
     "text": [
      "[nltk_data] Downloading package stopwords to\n",
      "[nltk_data]     C:\\Users\\vicky\\AppData\\Roaming\\nltk_data...\n",
      "[nltk_data]   Package stopwords is already up-to-date!\n",
      "[nltk_data] Downloading package wordnet to\n",
      "[nltk_data]     C:\\Users\\vicky\\AppData\\Roaming\\nltk_data...\n",
      "[nltk_data]   Package wordnet is already up-to-date!\n"
     ]
    },
    {
     "data": {
      "text/plain": [
       "True"
      ]
     },
     "execution_count": 141,
     "metadata": {},
     "output_type": "execute_result"
    }
   ],
   "source": [
    "# this we just have to do it once in an enviournment\n",
    "\n",
    "\n",
    "import nltk  # Import the nltk library\n",
    "\n",
    "nltk.download('stopwords')  # Now you can download the stopwords\n",
    "import nltk\n",
    "nltk.download('wordnet')\n"
   ]
  },
  {
   "cell_type": "code",
   "execution_count": 180,
   "id": "038d1ab0-e4d8-47d2-8d52-6075dbd16f74",
   "metadata": {},
   "outputs": [
    {
     "data": {
      "text/html": [
       "<div>\n",
       "<style scoped>\n",
       "    .dataframe tbody tr th:only-of-type {\n",
       "        vertical-align: middle;\n",
       "    }\n",
       "\n",
       "    .dataframe tbody tr th {\n",
       "        vertical-align: top;\n",
       "    }\n",
       "\n",
       "    .dataframe thead th {\n",
       "        text-align: right;\n",
       "    }\n",
       "</style>\n",
       "<table border=\"1\" class=\"dataframe\">\n",
       "  <thead>\n",
       "    <tr style=\"text-align: right;\">\n",
       "      <th></th>\n",
       "      <th>created_at</th>\n",
       "      <th>text</th>\n",
       "      <th>username</th>\n",
       "    </tr>\n",
       "  </thead>\n",
       "  <tbody>\n",
       "    <tr>\n",
       "      <th>0</th>\n",
       "      <td>1735559166</td>\n",
       "      <td>My Instagram pages are private and closed and ...</td>\n",
       "      <td>aqeede_</td>\n",
       "    </tr>\n",
       "    <tr>\n",
       "      <th>1</th>\n",
       "      <td>1735559196</td>\n",
       "      <td>My Instagram pages are private and closed and ...</td>\n",
       "      <td>aqeede_</td>\n",
       "    </tr>\n",
       "    <tr>\n",
       "      <th>2</th>\n",
       "      <td>1735559888</td>\n",
       "      <td>He underestimated the stupidity of Your voters...</td>\n",
       "      <td>topdressurpferde</td>\n",
       "    </tr>\n",
       "    <tr>\n",
       "      <th>3</th>\n",
       "      <td>1735560204</td>\n",
       "      <td>The one who threatens you takes away the prosp...</td>\n",
       "      <td>aqeede_</td>\n",
       "    </tr>\n",
       "    <tr>\n",
       "      <th>4</th>\n",
       "      <td>1735560271</td>\n",
       "      <td>The one who threatens you takes away the prosp...</td>\n",
       "      <td>afshar_mohamadtaghi</td>\n",
       "    </tr>\n",
       "    <tr>\n",
       "      <th>...</th>\n",
       "      <td>...</td>\n",
       "      <td>...</td>\n",
       "      <td>...</td>\n",
       "    </tr>\n",
       "    <tr>\n",
       "      <th>14662</th>\n",
       "      <td>1735246427</td>\n",
       "      <td>??????????</td>\n",
       "      <td>cobrathebadest</td>\n",
       "    </tr>\n",
       "    <tr>\n",
       "      <th>14663</th>\n",
       "      <td>1735246428</td>\n",
       "      <td>MAGA</td>\n",
       "      <td>dally510_</td>\n",
       "    </tr>\n",
       "    <tr>\n",
       "      <th>14664</th>\n",
       "      <td>1735246429</td>\n",
       "      <td>??</td>\n",
       "      <td>daniel_lee2005</td>\n",
       "    </tr>\n",
       "    <tr>\n",
       "      <th>14665</th>\n",
       "      <td>1735246429</td>\n",
       "      <td>Is my Last Post Fire?  Or should I Delete it? ??</td>\n",
       "      <td>killerdashh</td>\n",
       "    </tr>\n",
       "    <tr>\n",
       "      <th>14666</th>\n",
       "      <td>1735246430</td>\n",
       "      <td>Twice lol</td>\n",
       "      <td>siona_va</td>\n",
       "    </tr>\n",
       "  </tbody>\n",
       "</table>\n",
       "<p>14667 rows × 3 columns</p>\n",
       "</div>"
      ],
      "text/plain": [
       "       created_at                                               text  \\\n",
       "0      1735559166  My Instagram pages are private and closed and ...   \n",
       "1      1735559196  My Instagram pages are private and closed and ...   \n",
       "2      1735559888  He underestimated the stupidity of Your voters...   \n",
       "3      1735560204  The one who threatens you takes away the prosp...   \n",
       "4      1735560271  The one who threatens you takes away the prosp...   \n",
       "...           ...                                                ...   \n",
       "14662  1735246427                                         ??????????   \n",
       "14663  1735246428                                               MAGA   \n",
       "14664  1735246429                                                 ??   \n",
       "14665  1735246429   Is my Last Post Fire?  Or should I Delete it? ??   \n",
       "14666  1735246430                                          Twice lol   \n",
       "\n",
       "                  username  \n",
       "0                  aqeede_  \n",
       "1                  aqeede_  \n",
       "2         topdressurpferde  \n",
       "3                  aqeede_  \n",
       "4      afshar_mohamadtaghi  \n",
       "...                    ...  \n",
       "14662       cobrathebadest  \n",
       "14663            dally510_  \n",
       "14664       daniel_lee2005  \n",
       "14665          killerdashh  \n",
       "14666             siona_va  \n",
       "\n",
       "[14667 rows x 3 columns]"
      ]
     },
     "execution_count": 180,
     "metadata": {},
     "output_type": "execute_result"
    }
   ],
   "source": [
    "\n",
    "df = pd.read_csv('instagram_comments.csv', encoding='latin1')\n",
    "\n",
    "df"
   ]
  },
  {
   "cell_type": "code",
   "execution_count": 182,
   "id": "ff14072b-efab-4c6b-997f-c176a459ed81",
   "metadata": {},
   "outputs": [
    {
     "name": "stdout",
     "output_type": "stream",
     "text": [
      "column deleted\n"
     ]
    }
   ],
   "source": [
    "column_to_delete = 'created_at'\n",
    "df.drop(columns=[column_to_delete], inplace = True)\n",
    "print('column deleted')\n"
   ]
  },
  {
   "cell_type": "code",
   "execution_count": 184,
   "id": "1f3a5dbd-7589-494c-bbf4-e6f6bca08013",
   "metadata": {},
   "outputs": [
    {
     "data": {
      "text/html": [
       "<div>\n",
       "<style scoped>\n",
       "    .dataframe tbody tr th:only-of-type {\n",
       "        vertical-align: middle;\n",
       "    }\n",
       "\n",
       "    .dataframe tbody tr th {\n",
       "        vertical-align: top;\n",
       "    }\n",
       "\n",
       "    .dataframe thead th {\n",
       "        text-align: right;\n",
       "    }\n",
       "</style>\n",
       "<table border=\"1\" class=\"dataframe\">\n",
       "  <thead>\n",
       "    <tr style=\"text-align: right;\">\n",
       "      <th></th>\n",
       "      <th>text</th>\n",
       "      <th>username</th>\n",
       "    </tr>\n",
       "  </thead>\n",
       "  <tbody>\n",
       "    <tr>\n",
       "      <th>0</th>\n",
       "      <td>My Instagram pages are private and closed and ...</td>\n",
       "      <td>aqeede_</td>\n",
       "    </tr>\n",
       "    <tr>\n",
       "      <th>1</th>\n",
       "      <td>My Instagram pages are private and closed and ...</td>\n",
       "      <td>aqeede_</td>\n",
       "    </tr>\n",
       "    <tr>\n",
       "      <th>2</th>\n",
       "      <td>He underestimated the stupidity of Your voters...</td>\n",
       "      <td>topdressurpferde</td>\n",
       "    </tr>\n",
       "    <tr>\n",
       "      <th>3</th>\n",
       "      <td>The one who threatens you takes away the prosp...</td>\n",
       "      <td>aqeede_</td>\n",
       "    </tr>\n",
       "    <tr>\n",
       "      <th>4</th>\n",
       "      <td>The one who threatens you takes away the prosp...</td>\n",
       "      <td>afshar_mohamadtaghi</td>\n",
       "    </tr>\n",
       "    <tr>\n",
       "      <th>...</th>\n",
       "      <td>...</td>\n",
       "      <td>...</td>\n",
       "    </tr>\n",
       "    <tr>\n",
       "      <th>14662</th>\n",
       "      <td>??????????</td>\n",
       "      <td>cobrathebadest</td>\n",
       "    </tr>\n",
       "    <tr>\n",
       "      <th>14663</th>\n",
       "      <td>MAGA</td>\n",
       "      <td>dally510_</td>\n",
       "    </tr>\n",
       "    <tr>\n",
       "      <th>14664</th>\n",
       "      <td>??</td>\n",
       "      <td>daniel_lee2005</td>\n",
       "    </tr>\n",
       "    <tr>\n",
       "      <th>14665</th>\n",
       "      <td>Is my Last Post Fire?  Or should I Delete it? ??</td>\n",
       "      <td>killerdashh</td>\n",
       "    </tr>\n",
       "    <tr>\n",
       "      <th>14666</th>\n",
       "      <td>Twice lol</td>\n",
       "      <td>siona_va</td>\n",
       "    </tr>\n",
       "  </tbody>\n",
       "</table>\n",
       "<p>14667 rows × 2 columns</p>\n",
       "</div>"
      ],
      "text/plain": [
       "                                                    text             username\n",
       "0      My Instagram pages are private and closed and ...              aqeede_\n",
       "1      My Instagram pages are private and closed and ...              aqeede_\n",
       "2      He underestimated the stupidity of Your voters...     topdressurpferde\n",
       "3      The one who threatens you takes away the prosp...              aqeede_\n",
       "4      The one who threatens you takes away the prosp...  afshar_mohamadtaghi\n",
       "...                                                  ...                  ...\n",
       "14662                                         ??????????       cobrathebadest\n",
       "14663                                               MAGA            dally510_\n",
       "14664                                                 ??       daniel_lee2005\n",
       "14665   Is my Last Post Fire?  Or should I Delete it? ??          killerdashh\n",
       "14666                                          Twice lol             siona_va\n",
       "\n",
       "[14667 rows x 2 columns]"
      ]
     },
     "execution_count": 184,
     "metadata": {},
     "output_type": "execute_result"
    }
   ],
   "source": [
    "df"
   ]
  },
  {
   "cell_type": "code",
   "execution_count": 186,
   "id": "ab20bf53-c8bf-4d06-b6a6-db41d4875e4d",
   "metadata": {},
   "outputs": [
    {
     "data": {
      "text/plain": [
       "text        460\n",
       "username      0\n",
       "dtype: int64"
      ]
     },
     "execution_count": 186,
     "metadata": {},
     "output_type": "execute_result"
    }
   ],
   "source": [
    "df.isnull().sum()"
   ]
  },
  {
   "cell_type": "code",
   "execution_count": 188,
   "id": "90d0661f-f8ae-4bc8-8c60-71c02a8b7e4b",
   "metadata": {},
   "outputs": [
    {
     "name": "stdout",
     "output_type": "stream",
     "text": [
      "\n",
      "Rows with Null Values:\n",
      "      text              username\n",
      "51     NaN         rowan_hardin_\n",
      "103    NaN           cookerywolf\n",
      "137    NaN            satansbaal\n",
      "147    NaN  mostly_peaceful_1776\n",
      "227    NaN           ye.boy.john\n",
      "...    ...                   ...\n",
      "14629  NaN            sidar_7362\n",
      "14636  NaN        tigerteethtony\n",
      "14649  NaN            sidar_7362\n",
      "14650  NaN           nott._.antt\n",
      "14661  NaN        tigerteethtony\n",
      "\n",
      "[460 rows x 2 columns]\n"
     ]
    }
   ],
   "source": [
    "null_comments = df[df.isnull().any(axis=1)]\n",
    "\n",
    "# Display the rows with null values\n",
    "print(\"\\nRows with Null Values:\")\n",
    "print(null_comments)"
   ]
  },
  {
   "cell_type": "code",
   "execution_count": 206,
   "id": "19244e82-0fa9-4205-8a7d-a08bc8bff717",
   "metadata": {},
   "outputs": [
    {
     "data": {
      "text/plain": [
       "text        0\n",
       "username    0\n",
       "dtype: int64"
      ]
     },
     "execution_count": 206,
     "metadata": {},
     "output_type": "execute_result"
    }
   ],
   "source": [
    "\n",
    "# Remove rows with null values from the original dataset\n",
    "df_cleaned = df.dropna()\n",
    "df = df_cleaned\n",
    "df.isnull().sum()"
   ]
  },
  {
   "cell_type": "code",
   "execution_count": 208,
   "id": "2e676dc4-2d18-4d48-a891-068062a5ef76",
   "metadata": {},
   "outputs": [
    {
     "name": "stdout",
     "output_type": "stream",
     "text": [
      "\n",
      "Cleaned Dataset:\n",
      "                                                    text             username\n",
      "0      My Instagram pages are private and closed and ...              aqeede_\n",
      "1      My Instagram pages are private and closed and ...              aqeede_\n",
      "2      He underestimated the stupidity of Your voters...     topdressurpferde\n",
      "3      The one who threatens you takes away the prosp...              aqeede_\n",
      "4      The one who threatens you takes away the prosp...  afshar_mohamadtaghi\n",
      "...                                                  ...                  ...\n",
      "14662                                         ??????????       cobrathebadest\n",
      "14663                                               MAGA            dally510_\n",
      "14664                                                 ??       daniel_lee2005\n",
      "14665   Is my Last Post Fire?  Or should I Delete it? ??          killerdashh\n",
      "14666                                          Twice lol             siona_va\n",
      "\n",
      "[14207 rows x 2 columns]\n",
      "\n",
      "Rows with null values have been saved to 'null_comments.csv'.\n"
     ]
    }
   ],
   "source": [
    "\n",
    "\n",
    "# Display the cleaned dataset\n",
    "print(\"\\nCleaned Dataset:\")\n",
    "print(df_cleaned)\n",
    "\n",
    "# Save the null comments to a separate dataset\n",
    "null_comments.to_csv('null_comments_trum_14k.csv', index=False)\n",
    "\n",
    "print(\"\\nRows with null values have been saved to 'null_comments.csv'.\")\n"
   ]
  },
  {
   "cell_type": "code",
   "execution_count": 220,
   "id": "0f772158-bf18-4076-a917-f0fb010e6222",
   "metadata": {},
   "outputs": [
    {
     "name": "stdout",
     "output_type": "stream",
     "text": [
      "\n",
      "Cleaned DataFrame:\n",
      "                                                    text             username\n",
      "0      My Instagram pages are private and closed and ...              aqeede_\n",
      "1      My Instagram pages are private and closed and ...              aqeede_\n",
      "2      He underestimated the stupidity of Your voters...     topdressurpferde\n",
      "3      The one who threatens you takes away the prosp...              aqeede_\n",
      "4      The one who threatens you takes away the prosp...  afshar_mohamadtaghi\n",
      "...                                                  ...                  ...\n",
      "14662                                         ??????????       cobrathebadest\n",
      "14663                                               MAGA            dally510_\n",
      "14664                                                 ??       daniel_lee2005\n",
      "14665   Is my Last Post Fire?  Or should I Delete it? ??          killerdashh\n",
      "14666                                          Twice lol             siona_va\n",
      "\n",
      "[14207 rows x 2 columns]\n",
      "\n",
      "Cumulative sum of null values (should be 0):\n",
      "text        0\n",
      "username    0\n",
      "dtype: int64\n"
     ]
    }
   ],
   "source": [
    "\n",
    "\n",
    "# Check if there are any null values remaining\n",
    "null_check = df_cleaned.isnull().sum()\n",
    "# Display the cleaned DataFrame and the null check\n",
    "print(\"\\nCleaned DataFrame:\")\n",
    "print(df)\n",
    "print(\"\\nCumulative sum of null values (should be 0):\")\n",
    "print(null_check)"
   ]
  },
  {
   "cell_type": "code",
   "execution_count": 91,
   "id": "f190444e-0e61-404e-be07-7b0a5f532464",
   "metadata": {},
   "outputs": [],
   "source": []
  },
  {
   "cell_type": "code",
   "execution_count": 222,
   "id": "492c9709-d4d1-4237-af8d-fa167f1905d4",
   "metadata": {},
   "outputs": [],
   "source": [
    "#converted the comemnts from normal caps to small caps\n",
    "df['text'] = df['text'].str.lower()"
   ]
  },
  {
   "cell_type": "code",
   "execution_count": 224,
   "id": "85db5a2c-40e2-4e8d-90b2-dc7cad99addb",
   "metadata": {},
   "outputs": [
    {
     "name": "stdout",
     "output_type": "stream",
     "text": [
      "                                                    text             username\n",
      "0      my instagram pages are private and closed and ...              aqeede_\n",
      "1      my instagram pages are private and closed and ...              aqeede_\n",
      "2      he underestimated the stupidity of your voters...     topdressurpferde\n",
      "3      the one who threatens you takes away the prosp...              aqeede_\n",
      "4      the one who threatens you takes away the prosp...  afshar_mohamadtaghi\n",
      "...                                                  ...                  ...\n",
      "14662                                         ??????????       cobrathebadest\n",
      "14663                                               maga            dally510_\n",
      "14664                                                 ??       daniel_lee2005\n",
      "14665   is my last post fire?  or should i delete it? ??          killerdashh\n",
      "14666                                          twice lol             siona_va\n",
      "\n",
      "[14207 rows x 2 columns]\n"
     ]
    }
   ],
   "source": [
    "print(df)\n"
   ]
  },
  {
   "cell_type": "code",
   "execution_count": 226,
   "id": "6339429c-f6ff-4bc9-a6eb-344653ad5ac5",
   "metadata": {},
   "outputs": [
    {
     "name": "stdout",
     "output_type": "stream",
     "text": [
      "\n",
      "Cleaned DataFrame (text column):\n",
      "0        my instagram pages are private and closed and ...\n",
      "1        my instagram pages are private and closed and ...\n",
      "2        he underestimated the stupidity of your voters...\n",
      "3        the one who threatens you takes away the prosp...\n",
      "4        the one who threatens you takes away the prosp...\n",
      "                               ...                        \n",
      "14662                                                     \n",
      "14663                                                 maga\n",
      "14664                                                     \n",
      "14665         is my last post fire  or should i delete it \n",
      "14666                                            twice lol\n",
      "Name: text, Length: 14207, dtype: object\n"
     ]
    }
   ],
   "source": [
    "# Remove punctuations and numbers from the 'text' column\n",
    "df['text'] = df['text'].str.replace(r'[^\\w\\s]', '', regex=True)  # Remove punctuations\n",
    "df['text'] = df['text'].str.replace(r'\\d+', '', regex=True)      # Remove numbers\n",
    "\n",
    "# Display the cleaned DataFrame\n",
    "print(\"\\nCleaned DataFrame (text column):\")\n",
    "print(df['text'])"
   ]
  },
  {
   "cell_type": "code",
   "execution_count": 8,
   "id": "2db6d8ed-c7a7-4fea-82c0-ad32297795df",
   "metadata": {},
   "outputs": [],
   "source": [
    "#starting of nlp "
   ]
  },
  {
   "cell_type": "code",
   "execution_count": null,
   "id": "b8a6090f-ded8-4d6e-ba4b-b73e96ff6350",
   "metadata": {},
   "outputs": [],
   "source": [
    "\n"
   ]
  },
  {
   "cell_type": "code",
   "execution_count": null,
   "id": "a587e02a-9893-4d1f-959b-14d05879326e",
   "metadata": {},
   "outputs": [],
   "source": []
  },
  {
   "cell_type": "code",
   "execution_count": 232,
   "id": "06367faa-1dc7-477f-abf5-2431ba2679cc",
   "metadata": {},
   "outputs": [],
   "source": [
    "#Here, we create a set called `stop` that contains all the English stopwords provided by NLTK.\n",
    "#Using a set allows for faster membership testing when checking if a word is a stopword.\n",
    "stop = set(stopwords.words('english'))"
   ]
  },
  {
   "cell_type": "code",
   "execution_count": 238,
   "id": "e17cdca5-0385-408b-a653-e2e92e2b1757",
   "metadata": {},
   "outputs": [],
   "source": [
    "#- This line processes the `text` column of the DataFrame `df`:\n",
    " # - `df['text'].apply(...)`: This applies a function to each element in the `text` column.\n",
    "  #- `lambda x: ...`: This defines an anonymous function that takes a single argument `x`, which represents each text entry in the column.\n",
    "  # `x.split()`: This splits the text into individual words based on whitespace.\n",
    "  #- `[word for word in x.split() if word not in stop]`: This is a list comprehension that iterates over each word in the split text and includes it in the new list only if it is not in the `stop` set (i.e., it is not a stopword).\n",
    "  #- `' '.join(...)`: This joins the filtered list of words back into a single string, with words separated by spaces.\n",
    "#- Finally, the processed text (with stopwords removed) replaces the original text in the `text` column of the DataFrame.\n",
    "\n",
    "### Suggestions:\n",
    "#1. **Ensure NLTK is Installed**: Make sure you have the NLTK library installed and the stopwords downloaded. You can do this by running:\n",
    "\n",
    "df['text'] = df['text'].apply(lambda x: ' '.join([word for word in x.split() if word not in stop]))"
   ]
  },
  {
   "cell_type": "code",
   "execution_count": 240,
   "id": "d3b96f51-75fb-447a-af9b-0ab82c7eb19b",
   "metadata": {},
   "outputs": [],
   "source": [
    "  # This line downloads the WordNet resource"
   ]
  },
  {
   "cell_type": "code",
   "execution_count": 242,
   "id": "5b3bace0-ad04-4f9b-85b6-d20d4766835f",
   "metadata": {},
   "outputs": [],
   "source": [
    "\n",
    "\n",
    "lemmatizer = WordNetLemmatizer()\n",
    "df['text'] = df['text'].apply(lambda x: ' '.join([lemmatizer.lemmatize(word) for word in x.split()]))\n"
   ]
  },
  {
   "cell_type": "code",
   "execution_count": 244,
   "id": "35fa8167-7ada-45db-b1cc-3aea459ef24d",
   "metadata": {},
   "outputs": [],
   "source": [
    "df['text'] = df['text'].str.replace(r'http\\S+|www\\S+|@\\S+', '', regex=True)\n"
   ]
  },
  {
   "cell_type": "code",
   "execution_count": null,
   "id": "b761d79b-194d-42f1-a05c-bbc00f3ead99",
   "metadata": {},
   "outputs": [],
   "source": []
  },
  {
   "cell_type": "code",
   "execution_count": 246,
   "id": "8311d391-8b90-40d5-b918-9c666d20b758",
   "metadata": {},
   "outputs": [],
   "source": [
    "# to remove extra spaces\n",
    "\n",
    "df['text'] = df['text'].str.strip().str.replace(r'\\s+', ' ', regex=True)\n"
   ]
  },
  {
   "cell_type": "code",
   "execution_count": 248,
   "id": "9a28f45e-103a-4576-909a-24097220194c",
   "metadata": {},
   "outputs": [],
   "source": [
    "df.to_csv('cleaned_instagram_comments.csv', index=False)"
   ]
  },
  {
   "cell_type": "code",
   "execution_count": 250,
   "id": "b71a1b1b-22e3-48b3-979e-be67a2d7d8b4",
   "metadata": {},
   "outputs": [
    {
     "data": {
      "text/html": [
       "<div>\n",
       "<style scoped>\n",
       "    .dataframe tbody tr th:only-of-type {\n",
       "        vertical-align: middle;\n",
       "    }\n",
       "\n",
       "    .dataframe tbody tr th {\n",
       "        vertical-align: top;\n",
       "    }\n",
       "\n",
       "    .dataframe thead th {\n",
       "        text-align: right;\n",
       "    }\n",
       "</style>\n",
       "<table border=\"1\" class=\"dataframe\">\n",
       "  <thead>\n",
       "    <tr style=\"text-align: right;\">\n",
       "      <th></th>\n",
       "      <th>text</th>\n",
       "      <th>username</th>\n",
       "    </tr>\n",
       "  </thead>\n",
       "  <tbody>\n",
       "    <tr>\n",
       "      <th>0</th>\n",
       "      <td>instagram page private closed cannot viewed pu...</td>\n",
       "      <td>aqeede_</td>\n",
       "    </tr>\n",
       "    <tr>\n",
       "      <th>1</th>\n",
       "      <td>instagram page private closed cannot viewed pu...</td>\n",
       "      <td>aqeede_</td>\n",
       "    </tr>\n",
       "    <tr>\n",
       "      <th>2</th>\n",
       "      <td>underestimated stupidity voter believing lie</td>\n",
       "      <td>topdressurpferde</td>\n",
       "    </tr>\n",
       "    <tr>\n",
       "      <th>3</th>\n",
       "      <td>one threatens take away prosperity security jo...</td>\n",
       "      <td>aqeede_</td>\n",
       "    </tr>\n",
       "    <tr>\n",
       "      <th>4</th>\n",
       "      <td>one threatens take away prosperity security jo...</td>\n",
       "      <td>afshar_mohamadtaghi</td>\n",
       "    </tr>\n",
       "    <tr>\n",
       "      <th>...</th>\n",
       "      <td>...</td>\n",
       "      <td>...</td>\n",
       "    </tr>\n",
       "    <tr>\n",
       "      <th>14198</th>\n",
       "      <td>lol love</td>\n",
       "      <td>real__desmond</td>\n",
       "    </tr>\n",
       "    <tr>\n",
       "      <th>14200</th>\n",
       "      <td>lmao</td>\n",
       "      <td>seancmccrossen</td>\n",
       "    </tr>\n",
       "    <tr>\n",
       "      <th>14203</th>\n",
       "      <td>maga</td>\n",
       "      <td>dally510_</td>\n",
       "    </tr>\n",
       "    <tr>\n",
       "      <th>14205</th>\n",
       "      <td>last post fire delete</td>\n",
       "      <td>killerdashh</td>\n",
       "    </tr>\n",
       "    <tr>\n",
       "      <th>14206</th>\n",
       "      <td>twice lol</td>\n",
       "      <td>siona_va</td>\n",
       "    </tr>\n",
       "  </tbody>\n",
       "</table>\n",
       "<p>9998 rows × 2 columns</p>\n",
       "</div>"
      ],
      "text/plain": [
       "                                                    text             username\n",
       "0      instagram page private closed cannot viewed pu...              aqeede_\n",
       "1      instagram page private closed cannot viewed pu...              aqeede_\n",
       "2           underestimated stupidity voter believing lie     topdressurpferde\n",
       "3      one threatens take away prosperity security jo...              aqeede_\n",
       "4      one threatens take away prosperity security jo...  afshar_mohamadtaghi\n",
       "...                                                  ...                  ...\n",
       "14198                                           lol love        real__desmond\n",
       "14200                                               lmao       seancmccrossen\n",
       "14203                                               maga            dally510_\n",
       "14205                              last post fire delete          killerdashh\n",
       "14206                                          twice lol             siona_va\n",
       "\n",
       "[9998 rows x 2 columns]"
      ]
     },
     "execution_count": 250,
     "metadata": {},
     "output_type": "execute_result"
    }
   ],
   "source": [
    "df2 = pd.read_csv('cleaned_instagram_comments.csv')\n",
    "df2 = df2.dropna()\n",
    "df2"
   ]
  },
  {
   "cell_type": "code",
   "execution_count": 254,
   "id": "abd8ade9-9700-4f92-ba1f-9f4a2435866c",
   "metadata": {},
   "outputs": [],
   "source": [
    "#####################################################################33\n",
    "\n",
    "#actual sentiment analysis here"
   ]
  },
  {
   "cell_type": "code",
   "execution_count": 256,
   "id": "064d8e97-46ff-445f-b78d-ba03453608e0",
   "metadata": {},
   "outputs": [
    {
     "name": "stdout",
     "output_type": "stream",
     "text": [
      "Requirement already satisfied: vaderSentiment in c:\\users\\vicky\\anaconda3\\lib\\site-packages (3.3.2)\n",
      "Requirement already satisfied: requests in c:\\users\\vicky\\anaconda3\\lib\\site-packages (from vaderSentiment) (2.32.3)\n",
      "Requirement already satisfied: charset-normalizer<4,>=2 in c:\\users\\vicky\\anaconda3\\lib\\site-packages (from requests->vaderSentiment) (3.3.2)\n",
      "Requirement already satisfied: idna<4,>=2.5 in c:\\users\\vicky\\anaconda3\\lib\\site-packages (from requests->vaderSentiment) (3.7)\n",
      "Requirement already satisfied: urllib3<3,>=1.21.1 in c:\\users\\vicky\\anaconda3\\lib\\site-packages (from requests->vaderSentiment) (2.2.3)\n",
      "Requirement already satisfied: certifi>=2017.4.17 in c:\\users\\vicky\\anaconda3\\lib\\site-packages (from requests->vaderSentiment) (2024.8.30)\n",
      "Note: you may need to restart the kernel to use updated packages.\n"
     ]
    }
   ],
   "source": [
    "pip install vaderSentiment\n"
   ]
  },
  {
   "cell_type": "code",
   "execution_count": 258,
   "id": "3430d536-cacb-4d28-8c1a-791621b65188",
   "metadata": {},
   "outputs": [],
   "source": [
    "from vaderSentiment.vaderSentiment import SentimentIntensityAnalyzer\n"
   ]
  },
  {
   "cell_type": "code",
   "execution_count": 260,
   "id": "38f7080b-d92e-4689-adbb-cf56c70319a5",
   "metadata": {},
   "outputs": [],
   "source": [
    "# Initialize the VADER sentiment analyzer\n",
    "analyzer = SentimentIntensityAnalyzer()\n"
   ]
  },
  {
   "cell_type": "code",
   "execution_count": 266,
   "id": "c754f057-5c6c-4bea-9c67-387a7c058908",
   "metadata": {},
   "outputs": [],
   "source": [
    "# Function to analyze sentiment\n",
    "def analyze_sentiment_vader(text):\n",
    "    score = analyzer.polarity_scores(text)  # Get sentiment scores\n",
    "    return score  # Return the entire sentiment dictionary for detailed analysis\n",
    "\n",
    "# Apply the function to the 'cleaned_text' column\n",
    "df['sentiment_scores'] = df['text'].apply(analyze_sentiment_vader)\n",
    "\n",
    "# Split the scores into separate columns\n",
    "df['positive'] = df['sentiment_scores'].apply(lambda x: x['pos'])\n",
    "df['neutral'] = df['sentiment_scores'].apply(lambda x: x['neu'])\n",
    "df['negative'] = df['sentiment_scores'].apply(lambda x: x['neg'])\n",
    "df['compound'] = df['sentiment_scores'].apply(lambda x: x['compound'])\n"
   ]
  },
  {
   "cell_type": "code",
   "execution_count": 268,
   "id": "33495f19-80fb-4840-9430-2022bca2a01d",
   "metadata": {},
   "outputs": [
    {
     "data": {
      "text/html": [
       "<div>\n",
       "<style scoped>\n",
       "    .dataframe tbody tr th:only-of-type {\n",
       "        vertical-align: middle;\n",
       "    }\n",
       "\n",
       "    .dataframe tbody tr th {\n",
       "        vertical-align: top;\n",
       "    }\n",
       "\n",
       "    .dataframe thead th {\n",
       "        text-align: right;\n",
       "    }\n",
       "</style>\n",
       "<table border=\"1\" class=\"dataframe\">\n",
       "  <thead>\n",
       "    <tr style=\"text-align: right;\">\n",
       "      <th></th>\n",
       "      <th>text</th>\n",
       "      <th>username</th>\n",
       "      <th>sentiment_scores</th>\n",
       "      <th>positive</th>\n",
       "      <th>neutral</th>\n",
       "      <th>negative</th>\n",
       "      <th>compound</th>\n",
       "    </tr>\n",
       "  </thead>\n",
       "  <tbody>\n",
       "    <tr>\n",
       "      <th>0</th>\n",
       "      <td>instagram page private closed cannot viewed pu...</td>\n",
       "      <td>aqeede_</td>\n",
       "      <td>{'neg': 0.221, 'neu': 0.529, 'pos': 0.25, 'com...</td>\n",
       "      <td>0.250</td>\n",
       "      <td>0.529</td>\n",
       "      <td>0.221</td>\n",
       "      <td>0.6022</td>\n",
       "    </tr>\n",
       "    <tr>\n",
       "      <th>1</th>\n",
       "      <td>instagram page private closed cannot viewed pu...</td>\n",
       "      <td>aqeede_</td>\n",
       "      <td>{'neg': 0.221, 'neu': 0.529, 'pos': 0.25, 'com...</td>\n",
       "      <td>0.250</td>\n",
       "      <td>0.529</td>\n",
       "      <td>0.221</td>\n",
       "      <td>0.6022</td>\n",
       "    </tr>\n",
       "    <tr>\n",
       "      <th>2</th>\n",
       "      <td>underestimated stupidity voter believing lie</td>\n",
       "      <td>topdressurpferde</td>\n",
       "      <td>{'neg': 0.625, 'neu': 0.375, 'pos': 0.0, 'comp...</td>\n",
       "      <td>0.000</td>\n",
       "      <td>0.375</td>\n",
       "      <td>0.625</td>\n",
       "      <td>-0.6124</td>\n",
       "    </tr>\n",
       "    <tr>\n",
       "      <th>3</th>\n",
       "      <td>one threatens take away prosperity security jo...</td>\n",
       "      <td>aqeede_</td>\n",
       "      <td>{'neg': 0.114, 'neu': 0.684, 'pos': 0.202, 'co...</td>\n",
       "      <td>0.202</td>\n",
       "      <td>0.684</td>\n",
       "      <td>0.114</td>\n",
       "      <td>0.9623</td>\n",
       "    </tr>\n",
       "    <tr>\n",
       "      <th>4</th>\n",
       "      <td>one threatens take away prosperity security jo...</td>\n",
       "      <td>afshar_mohamadtaghi</td>\n",
       "      <td>{'neg': 0.114, 'neu': 0.684, 'pos': 0.202, 'co...</td>\n",
       "      <td>0.202</td>\n",
       "      <td>0.684</td>\n",
       "      <td>0.114</td>\n",
       "      <td>0.9623</td>\n",
       "    </tr>\n",
       "    <tr>\n",
       "      <th>...</th>\n",
       "      <td>...</td>\n",
       "      <td>...</td>\n",
       "      <td>...</td>\n",
       "      <td>...</td>\n",
       "      <td>...</td>\n",
       "      <td>...</td>\n",
       "      <td>...</td>\n",
       "    </tr>\n",
       "    <tr>\n",
       "      <th>14662</th>\n",
       "      <td></td>\n",
       "      <td>cobrathebadest</td>\n",
       "      <td>{'neg': 0.0, 'neu': 0.0, 'pos': 0.0, 'compound...</td>\n",
       "      <td>0.000</td>\n",
       "      <td>0.000</td>\n",
       "      <td>0.000</td>\n",
       "      <td>0.0000</td>\n",
       "    </tr>\n",
       "    <tr>\n",
       "      <th>14663</th>\n",
       "      <td>maga</td>\n",
       "      <td>dally510_</td>\n",
       "      <td>{'neg': 0.0, 'neu': 1.0, 'pos': 0.0, 'compound...</td>\n",
       "      <td>0.000</td>\n",
       "      <td>1.000</td>\n",
       "      <td>0.000</td>\n",
       "      <td>0.0000</td>\n",
       "    </tr>\n",
       "    <tr>\n",
       "      <th>14664</th>\n",
       "      <td></td>\n",
       "      <td>daniel_lee2005</td>\n",
       "      <td>{'neg': 0.0, 'neu': 0.0, 'pos': 0.0, 'compound...</td>\n",
       "      <td>0.000</td>\n",
       "      <td>0.000</td>\n",
       "      <td>0.000</td>\n",
       "      <td>0.0000</td>\n",
       "    </tr>\n",
       "    <tr>\n",
       "      <th>14665</th>\n",
       "      <td>last post fire delete</td>\n",
       "      <td>killerdashh</td>\n",
       "      <td>{'neg': 0.444, 'neu': 0.556, 'pos': 0.0, 'comp...</td>\n",
       "      <td>0.000</td>\n",
       "      <td>0.556</td>\n",
       "      <td>0.444</td>\n",
       "      <td>-0.3400</td>\n",
       "    </tr>\n",
       "    <tr>\n",
       "      <th>14666</th>\n",
       "      <td>twice lol</td>\n",
       "      <td>siona_va</td>\n",
       "      <td>{'neg': 0.0, 'neu': 0.263, 'pos': 0.737, 'comp...</td>\n",
       "      <td>0.737</td>\n",
       "      <td>0.263</td>\n",
       "      <td>0.000</td>\n",
       "      <td>0.4215</td>\n",
       "    </tr>\n",
       "  </tbody>\n",
       "</table>\n",
       "<p>14207 rows × 7 columns</p>\n",
       "</div>"
      ],
      "text/plain": [
       "                                                    text             username  \\\n",
       "0      instagram page private closed cannot viewed pu...              aqeede_   \n",
       "1      instagram page private closed cannot viewed pu...              aqeede_   \n",
       "2           underestimated stupidity voter believing lie     topdressurpferde   \n",
       "3      one threatens take away prosperity security jo...              aqeede_   \n",
       "4      one threatens take away prosperity security jo...  afshar_mohamadtaghi   \n",
       "...                                                  ...                  ...   \n",
       "14662                                                          cobrathebadest   \n",
       "14663                                               maga            dally510_   \n",
       "14664                                                          daniel_lee2005   \n",
       "14665                              last post fire delete          killerdashh   \n",
       "14666                                          twice lol             siona_va   \n",
       "\n",
       "                                        sentiment_scores  positive  neutral  \\\n",
       "0      {'neg': 0.221, 'neu': 0.529, 'pos': 0.25, 'com...     0.250    0.529   \n",
       "1      {'neg': 0.221, 'neu': 0.529, 'pos': 0.25, 'com...     0.250    0.529   \n",
       "2      {'neg': 0.625, 'neu': 0.375, 'pos': 0.0, 'comp...     0.000    0.375   \n",
       "3      {'neg': 0.114, 'neu': 0.684, 'pos': 0.202, 'co...     0.202    0.684   \n",
       "4      {'neg': 0.114, 'neu': 0.684, 'pos': 0.202, 'co...     0.202    0.684   \n",
       "...                                                  ...       ...      ...   \n",
       "14662  {'neg': 0.0, 'neu': 0.0, 'pos': 0.0, 'compound...     0.000    0.000   \n",
       "14663  {'neg': 0.0, 'neu': 1.0, 'pos': 0.0, 'compound...     0.000    1.000   \n",
       "14664  {'neg': 0.0, 'neu': 0.0, 'pos': 0.0, 'compound...     0.000    0.000   \n",
       "14665  {'neg': 0.444, 'neu': 0.556, 'pos': 0.0, 'comp...     0.000    0.556   \n",
       "14666  {'neg': 0.0, 'neu': 0.263, 'pos': 0.737, 'comp...     0.737    0.263   \n",
       "\n",
       "       negative  compound  \n",
       "0         0.221    0.6022  \n",
       "1         0.221    0.6022  \n",
       "2         0.625   -0.6124  \n",
       "3         0.114    0.9623  \n",
       "4         0.114    0.9623  \n",
       "...         ...       ...  \n",
       "14662     0.000    0.0000  \n",
       "14663     0.000    0.0000  \n",
       "14664     0.000    0.0000  \n",
       "14665     0.444   -0.3400  \n",
       "14666     0.000    0.4215  \n",
       "\n",
       "[14207 rows x 7 columns]"
      ]
     },
     "execution_count": 268,
     "metadata": {},
     "output_type": "execute_result"
    }
   ],
   "source": [
    "df"
   ]
  },
  {
   "cell_type": "code",
   "execution_count": 270,
   "id": "1e3bc5e8-f5b1-49bf-986e-e672082f0eb6",
   "metadata": {},
   "outputs": [],
   "source": [
    "# Define sentiment labels\n",
    "def sentiment_label(compound_score):\n",
    "    if compound_score > 0.05:\n",
    "        return 'Positive'\n",
    "    elif compound_score < -0.05:\n",
    "        return 'Negative'\n",
    "    else:\n",
    "        return 'Neutral'\n",
    "\n",
    "# Apply sentiment labeling\n",
    "df['sentiment_label'] = df['compound'].apply(sentiment_label)\n"
   ]
  },
  {
   "cell_type": "code",
   "execution_count": 272,
   "id": "b2b6ccf3-0178-4f99-99ff-068b32aba199",
   "metadata": {},
   "outputs": [],
   "source": [
    "filename = 'sentiment_analysis_results_after.csv'\n",
    "\n",
    "# Save the DataFrame to a CSV file\n",
    "df.to_csv(filename, index=False) "
   ]
  },
  {
   "cell_type": "code",
   "execution_count": 274,
   "id": "99077599-15a2-4fd2-a61c-8d48f530d479",
   "metadata": {},
   "outputs": [
    {
     "data": {
      "image/png": "[encoded data removed]",
      "text/plain": [
       "<Figure size 640x480 with 1 Axes>"
      ]
     },
     "metadata": {},
     "output_type": "display_data"
    }
   ],
   "source": [
    "\n",
    "import matplotlib.pyplot as plt\n",
    "\n",
    "# Plot sentiment distribution\n",
    "df['sentiment_label'].value_counts().plot(kind='bar', color=['green', 'gray', 'red'])\n",
    "plt.title('Sentiment Distribution')\n",
    "plt.xlabel('Sentiment')\n",
    "plt.ylabel('Count')\n",
    "plt.show()\n"
   ]
  },
  {
   "cell_type": "code",
   "execution_count": 281,
   "id": "0b6c2423-f840-47f3-bfdd-33590921ed18",
   "metadata": {},
   "outputs": [
    {
     "data": {
      "image/png": "[encoded data removed]",
      "text/plain": [
       "<Figure size 1000x600 with 1 Axes>"
      ]
     },
     "metadata": {},
     "output_type": "display_data"
    }
   ],
   "source": [
    "import matplotlib.pyplot as plt\n",
    "\n",
    "# Set the figure size\n",
    "plt.figure(figsize=(10, 6))\n",
    "\n",
    "# Plot sentiment distribution with improved aesthetics\n",
    "ax = df['sentiment_label'].value_counts().plot(kind='bar', color=['green', 'gray', 'red'], edgecolor='black')\n",
    "\n",
    "# Add title and labels\n",
    "plt.title('Sentiment Distribution for provided IG post comment data', fontsize=16, fontweight='bold')\n",
    "plt.xlabel('Sentiment', fontsize=14)\n",
    "plt.ylabel('Count', fontsize=14)\n",
    "\n",
    "# Add grid lines for better readability\n",
    "plt.grid(axis='y', linestyle='--', alpha=0.7)\n",
    "\n",
    "# Add data labels on top of the bars\n",
    "for p in ax.patches:\n",
    "    ax.annotate(f'{p.get_height()}', (p.get_x() + p.get_width() / 2., p.get_height()), \n",
    "                ha='center', va='bottom', fontsize=12)\n",
    "\n",
    "# Show the plot\n",
    "plt.xticks(rotation=0)  # Rotate x labels if necessary\n",
    "plt.tight_layout()  # Adjust layout to make room for labels\n",
    "plt.show()"
   ]
  },
  {
   "cell_type": "code",
   "execution_count": 283,
   "id": "c5906857-71f2-4176-b705-268f006db16d",
   "metadata": {},
   "outputs": [
    {
     "name": "stdout",
     "output_type": "stream",
     "text": [
      "Plot saved as sine_wave_plot.png\n"
     ]
    },
    {
     "data": {
      "text/plain": [
       "<Figure size 640x480 with 0 Axes>"
      ]
     },
     "metadata": {},
     "output_type": "display_data"
    }
   ],
   "source": [
    "# Save the plot to the system\n",
    "file_name = \"sine_wave_plot.png\"  # Change the file name and extension as needed\n",
    "plt.savefig(file_name, dpi=300, bbox_inches='tight')  # Save the plot with high resolution\n",
    "print(f\"Plot saved as {file_name}\")"
   ]
  },
  {
   "cell_type": "code",
   "execution_count": null,
   "id": "6bb7dd2f-c0b8-45ad-b9ec-e85a1771fe12",
   "metadata": {},
   "outputs": [],
   "source": []
  }
 ],
 "metadata": {
  "kernelspec": {
   "display_name": "Python 3 (ipykernel)",
   "language": "python",
   "name": "python3"
  },
  "language_info": {
   "codemirror_mode": {
    "name": "ipython",
    "version": 3
   },
   "file_extension": ".py",
   "mimetype": "text/x-python",
   "name": "python",
   "nbconvert_exporter": "python",
   "pygments_lexer": "ipython3",
   "version": "3.12.7"
  }
 },
 "nbformat": 4,
 "nbformat_minor": 5
}
